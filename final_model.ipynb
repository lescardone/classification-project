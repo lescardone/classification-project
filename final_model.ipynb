{
 "cells": [
  {
   "cell_type": "code",
   "execution_count": 32,
   "id": "failing-insulin",
   "metadata": {},
   "outputs": [],
   "source": [
    "# the usual suspects\n",
    "import pandas as pd\n",
    "import numpy as np\n",
    "import matplotlib.pyplot as plt\n",
    "import seaborn as sns\n",
    "\n",
    "# modeling imports\n",
    "from sklearn.linear_model import LogisticRegression\n",
    "from sklearn.model_selection import train_test_split\n",
    "\n",
    "# metrics\n",
    "from sklearn.metrics import precision_score, recall_score, precision_recall_curve, accuracy_score, roc_auc_score, roc_curve, f1_score, classification_report\n",
    "from sklearn.metrics import confusion_matrix, SCORERS\n",
    "\n",
    "# preprocessing\n",
    "from sklearn.preprocessing import StandardScaler"
   ]
  },
  {
   "cell_type": "markdown",
   "id": "dressed-labor",
   "metadata": {},
   "source": [
    "# Scale, Train, Fit, and Predict"
   ]
  },
  {
   "cell_type": "code",
   "execution_count": 12,
   "id": "cooked-province",
   "metadata": {},
   "outputs": [],
   "source": [
    "# read in training + val set\n",
    "X = pd.read_csv('./data/processed_second_X.csv')\n",
    "y = pd.read_csv('./data/processed_second_y.csv')"
   ]
  },
  {
   "cell_type": "code",
   "execution_count": 13,
   "id": "equipped-milan",
   "metadata": {},
   "outputs": [],
   "source": [
    "X_hold = pd.read_csv('./data/processed_HOLDOUT_X.csv')\n",
    "y_hold = pd.read_csv('./data/processed_HOLDOUT_y.csv')"
   ]
  },
  {
   "cell_type": "code",
   "execution_count": 14,
   "id": "grave-eating",
   "metadata": {},
   "outputs": [],
   "source": [
    "y = np.array(y).ravel()"
   ]
  },
  {
   "cell_type": "code",
   "execution_count": 15,
   "id": "outer-glucose",
   "metadata": {},
   "outputs": [
    {
     "data": {
      "text/plain": [
       "StandardScaler()"
      ]
     },
     "execution_count": 15,
     "metadata": {},
     "output_type": "execute_result"
    }
   ],
   "source": [
    "sts = StandardScaler()\n",
    "sts.fit(X)"
   ]
  },
  {
   "cell_type": "code",
   "execution_count": 16,
   "id": "standing-aspect",
   "metadata": {},
   "outputs": [],
   "source": [
    "X_train_scale = sts.transform(X)\n",
    "X_hold_scale = sts.transform(X_hold)"
   ]
  },
  {
   "cell_type": "code",
   "execution_count": 17,
   "id": "distributed-spine",
   "metadata": {},
   "outputs": [],
   "source": [
    "lm_l1_weight_g = LogisticRegression(C=.001, \n",
    "                        solver='liblinear',\n",
    "                        penalty='l1',\n",
    "                        class_weight={1:5,0:1}).fit(X_train_scale, y)"
   ]
  },
  {
   "cell_type": "code",
   "execution_count": 21,
   "id": "narrative-converter",
   "metadata": {},
   "outputs": [],
   "source": [
    "yhat = lm_l1_weight_g.predict(X_hold_scale)"
   ]
  },
  {
   "cell_type": "markdown",
   "id": "fitted-swedish",
   "metadata": {},
   "source": [
    "# Interlude for False Negatives"
   ]
  },
  {
   "cell_type": "code",
   "execution_count": 40,
   "id": "australian-utility",
   "metadata": {},
   "outputs": [],
   "source": [
    "full = X_hold.merge(y_hold,left_index=True,right_index=True)\n",
    "yhat_df = pd.DataFrame(yhat,columns=['yhat'])\n",
    "full_yhat = full.merge(yhat_df,left_index=True,right_index=True)"
   ]
  },
  {
   "cell_type": "code",
   "execution_count": 49,
   "id": "increasing-dodge",
   "metadata": {},
   "outputs": [],
   "source": [
    "df_cat = pd.read_csv('./data/categorical_df.csv')\n",
    "df_cat_drop = df_cat.drop(columns=['diabetes_mellitus'],axis=1)"
   ]
  },
  {
   "cell_type": "code",
   "execution_count": 45,
   "id": "modified-adult",
   "metadata": {},
   "outputs": [],
   "source": [
    "false_negatives = full_yhat[(full_yhat['diabetes_mellitus'] == 1) & (full_yhat['yhat'] == 0)].copy()\n",
    "false_negatives.drop(['ethnicity_African American','ethnicity_Caucasian'],axis=1,inplace = True)"
   ]
  },
  {
   "cell_type": "code",
   "execution_count": 51,
   "id": "prospective-patent",
   "metadata": {},
   "outputs": [],
   "source": [
    "false_neg_df = false_negatives.merge(df_cat_drop,how='left',left_index=True,right_index=True)"
   ]
  },
  {
   "cell_type": "code",
   "execution_count": 52,
   "id": "international-darkness",
   "metadata": {},
   "outputs": [],
   "source": [
    "false_neg_df.to_csv('./data/false_negatives.csv')"
   ]
  },
  {
   "cell_type": "markdown",
   "id": "saving-effects",
   "metadata": {},
   "source": [
    "# Interlude Over"
   ]
  },
  {
   "cell_type": "code",
   "execution_count": 107,
   "id": "defensive-transfer",
   "metadata": {},
   "outputs": [
    {
     "name": "stdout",
     "output_type": "stream",
     "text": [
      "L1 Regularization:\n",
      "Precision: 0.4080,   Recall: 0.7911,\n",
      "F1: 0.5383\n",
      "\n"
     ]
    }
   ],
   "source": [
    "print(\"L1 Regularization:\")\n",
    "print(\"Precision: {:6.4f},   Recall: {:6.4f},\\nF1: {:6.4f}\\n\".format(precision_score(y_hold, yhat), \n",
    "                                                     recall_score(y_hold, yhat),\n",
    "                                                     f1_score(y_hold,yhat)))"
   ]
  },
  {
   "cell_type": "code",
   "execution_count": 54,
   "id": "hourly-attendance",
   "metadata": {},
   "outputs": [
    {
     "name": "stdout",
     "output_type": "stream",
     "text": [
      "Hold Out Accuracy (L1): 0.7120851259987707\n"
     ]
    }
   ],
   "source": [
    "print('Hold Out Accuracy (L1):',lm_l1_weight_g.score(X_hold_scale,y_hold))"
   ]
  },
  {
   "cell_type": "code",
   "execution_count": 55,
   "id": "third-giving",
   "metadata": {},
   "outputs": [],
   "source": [
    "def make_confusion_matrix(model,threshold=0.5):\n",
    "    y_hat = (model.predict_proba(X_hold_scale)[:, 1] >= threshold)\n",
    "    diabetes_confusion = confusion_matrix(y_hold, y_hat)\n",
    "    \n",
    "    plt.figure(dpi=200)\n",
    "    sns.heatmap(diabetes_confusion, cmap=plt.cm.Blues, annot=True, square=True, fmt='d',\n",
    "           xticklabels=['pred no', 'pred yes'],\n",
    "           yticklabels=['actual no', 'actual yes']);\n",
    "    plt.title('Confusion Matrix -- Final')\n",
    "    plt.savefig('./project-checkpoints/final_model_matrix.png')"
   ]
  },
  {
   "cell_type": "code",
   "execution_count": 56,
   "id": "alien-pharmaceutical",
   "metadata": {},
   "outputs": [
    {
     "data": {
      "image/png": "[encoded data removed]",
      "text/plain": [
       "<Figure size 1200x800 with 2 Axes>"
      ]
     },
     "metadata": {
      "needs_background": "light"
     },
     "output_type": "display_data"
    }
   ],
   "source": [
    "make_confusion_matrix(lm_l1_weight_g)"
   ]
  },
  {
   "cell_type": "markdown",
   "id": "current-noise",
   "metadata": {},
   "source": [
    "# Feature Importance"
   ]
  },
  {
   "cell_type": "code",
   "execution_count": 79,
   "id": "hairy-hopkins",
   "metadata": {},
   "outputs": [],
   "source": [
    "zipped = list(zip(X_hold.columns,lm_l1_weight_g.coef_[0,:]))\n",
    "zorted = sorted(zipped,key=lambda x:x[1],reverse=True)"
   ]
  },
  {
   "cell_type": "code",
   "execution_count": 91,
   "id": "daily-cosmetic",
   "metadata": {},
   "outputs": [],
   "source": [
    "listicle = zorted[:13] + zorted[-6:]\n",
    "feature, coef = list(zip(*listicle))"
   ]
  },
  {
   "cell_type": "code",
   "execution_count": 105,
   "id": "adjusted-snake",
   "metadata": {},
   "outputs": [],
   "source": [
    "feat_array = pd.DataFrame(feature,columns=['Features'])\n",
    "coef_array = pd.DataFrame(coef,columns=['Coef'])\n",
    "feature_coef = feat_array.merge(coef_array,left_index=True,right_index=True)"
   ]
  },
  {
   "cell_type": "code",
   "execution_count": 106,
   "id": "optical-butterfly",
   "metadata": {},
   "outputs": [],
   "source": [
    "feature_coef.to_csv('./data/feature_importance.csv')"
   ]
  }
 ],
 "metadata": {
  "kernelspec": {
   "display_name": "Python [conda env:metis] *",
   "language": "python",
   "name": "conda-env-metis-py"
  },
  "language_info": {
   "codemirror_mode": {
    "name": "ipython",
    "version": 3
   },
   "file_extension": ".py",
   "mimetype": "text/x-python",
   "name": "python",
   "nbconvert_exporter": "python",
   "pygments_lexer": "ipython3",
   "version": "3.8.8"
  }
 },
 "nbformat": 4,
 "nbformat_minor": 5
}
