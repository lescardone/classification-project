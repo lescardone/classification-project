{
 "cells": [
  {
   "cell_type": "code",
   "execution_count": 758,
   "id": "handmade-eleven",
   "metadata": {},
   "outputs": [],
   "source": [
    "import pandas as pd\n",
    "import numpy as np\n",
    "import matplotlib.pyplot as plt\n",
    "import seaborn as sns\n",
    "\n",
    "from sklearn.model_selection import train_test_split"
   ]
  },
  {
   "cell_type": "code",
   "execution_count": 759,
   "id": "determined-reporter",
   "metadata": {},
   "outputs": [
    {
     "ename": "FileNotFoundError",
     "evalue": "[Errno 2] No such file or directory: './data/data.csv'",
     "output_type": "error",
     "traceback": [
      "\u001b[0;31m---------------------------------------------------------------------------\u001b[0m",
      "\u001b[0;31mFileNotFoundError\u001b[0m                         Traceback (most recent call last)",
      "\u001b[0;32m<ipython-input-759-645a976a9fa2>\u001b[0m in \u001b[0;36m<module>\u001b[0;34m\u001b[0m\n\u001b[0;32m----> 1\u001b[0;31m \u001b[0mdf\u001b[0m \u001b[0;34m=\u001b[0m \u001b[0mpd\u001b[0m\u001b[0;34m.\u001b[0m\u001b[0mread_csv\u001b[0m\u001b[0;34m(\u001b[0m\u001b[0;34m'./data/data.csv'\u001b[0m\u001b[0;34m)\u001b[0m\u001b[0;34m\u001b[0m\u001b[0;34m\u001b[0m\u001b[0m\n\u001b[0m",
      "\u001b[0;32m~/opt/anaconda3/envs/metis/lib/python3.8/site-packages/pandas/io/parsers.py\u001b[0m in \u001b[0;36mread_csv\u001b[0;34m(filepath_or_buffer, sep, delimiter, header, names, index_col, usecols, squeeze, prefix, mangle_dupe_cols, dtype, engine, converters, true_values, false_values, skipinitialspace, skiprows, skipfooter, nrows, na_values, keep_default_na, na_filter, verbose, skip_blank_lines, parse_dates, infer_datetime_format, keep_date_col, date_parser, dayfirst, cache_dates, iterator, chunksize, compression, thousands, decimal, lineterminator, quotechar, quoting, doublequote, escapechar, comment, encoding, dialect, error_bad_lines, warn_bad_lines, delim_whitespace, low_memory, memory_map, float_precision, storage_options)\u001b[0m\n\u001b[1;32m    608\u001b[0m     \u001b[0mkwds\u001b[0m\u001b[0;34m.\u001b[0m\u001b[0mupdate\u001b[0m\u001b[0;34m(\u001b[0m\u001b[0mkwds_defaults\u001b[0m\u001b[0;34m)\u001b[0m\u001b[0;34m\u001b[0m\u001b[0;34m\u001b[0m\u001b[0m\n\u001b[1;32m    609\u001b[0m \u001b[0;34m\u001b[0m\u001b[0m\n\u001b[0;32m--> 610\u001b[0;31m     \u001b[0;32mreturn\u001b[0m \u001b[0m_read\u001b[0m\u001b[0;34m(\u001b[0m\u001b[0mfilepath_or_buffer\u001b[0m\u001b[0;34m,\u001b[0m \u001b[0mkwds\u001b[0m\u001b[0;34m)\u001b[0m\u001b[0;34m\u001b[0m\u001b[0;34m\u001b[0m\u001b[0m\n\u001b[0m\u001b[1;32m    611\u001b[0m \u001b[0;34m\u001b[0m\u001b[0m\n\u001b[1;32m    612\u001b[0m \u001b[0;34m\u001b[0m\u001b[0m\n",
      "\u001b[0;32m~/opt/anaconda3/envs/metis/lib/python3.8/site-packages/pandas/io/parsers.py\u001b[0m in \u001b[0;36m_read\u001b[0;34m(filepath_or_buffer, kwds)\u001b[0m\n\u001b[1;32m    460\u001b[0m \u001b[0;34m\u001b[0m\u001b[0m\n\u001b[1;32m    461\u001b[0m     \u001b[0;31m# Create the parser.\u001b[0m\u001b[0;34m\u001b[0m\u001b[0;34m\u001b[0m\u001b[0;34m\u001b[0m\u001b[0m\n\u001b[0;32m--> 462\u001b[0;31m     \u001b[0mparser\u001b[0m \u001b[0;34m=\u001b[0m \u001b[0mTextFileReader\u001b[0m\u001b[0;34m(\u001b[0m\u001b[0mfilepath_or_buffer\u001b[0m\u001b[0;34m,\u001b[0m \u001b[0;34m**\u001b[0m\u001b[0mkwds\u001b[0m\u001b[0;34m)\u001b[0m\u001b[0;34m\u001b[0m\u001b[0;34m\u001b[0m\u001b[0m\n\u001b[0m\u001b[1;32m    463\u001b[0m \u001b[0;34m\u001b[0m\u001b[0m\n\u001b[1;32m    464\u001b[0m     \u001b[0;32mif\u001b[0m \u001b[0mchunksize\u001b[0m \u001b[0;32mor\u001b[0m \u001b[0miterator\u001b[0m\u001b[0;34m:\u001b[0m\u001b[0;34m\u001b[0m\u001b[0;34m\u001b[0m\u001b[0m\n",
      "\u001b[0;32m~/opt/anaconda3/envs/metis/lib/python3.8/site-packages/pandas/io/parsers.py\u001b[0m in \u001b[0;36m__init__\u001b[0;34m(self, f, engine, **kwds)\u001b[0m\n\u001b[1;32m    817\u001b[0m             \u001b[0mself\u001b[0m\u001b[0;34m.\u001b[0m\u001b[0moptions\u001b[0m\u001b[0;34m[\u001b[0m\u001b[0;34m\"has_index_names\"\u001b[0m\u001b[0;34m]\u001b[0m \u001b[0;34m=\u001b[0m \u001b[0mkwds\u001b[0m\u001b[0;34m[\u001b[0m\u001b[0;34m\"has_index_names\"\u001b[0m\u001b[0;34m]\u001b[0m\u001b[0;34m\u001b[0m\u001b[0;34m\u001b[0m\u001b[0m\n\u001b[1;32m    818\u001b[0m \u001b[0;34m\u001b[0m\u001b[0m\n\u001b[0;32m--> 819\u001b[0;31m         \u001b[0mself\u001b[0m\u001b[0;34m.\u001b[0m\u001b[0m_engine\u001b[0m \u001b[0;34m=\u001b[0m \u001b[0mself\u001b[0m\u001b[0;34m.\u001b[0m\u001b[0m_make_engine\u001b[0m\u001b[0;34m(\u001b[0m\u001b[0mself\u001b[0m\u001b[0;34m.\u001b[0m\u001b[0mengine\u001b[0m\u001b[0;34m)\u001b[0m\u001b[0;34m\u001b[0m\u001b[0;34m\u001b[0m\u001b[0m\n\u001b[0m\u001b[1;32m    820\u001b[0m \u001b[0;34m\u001b[0m\u001b[0m\n\u001b[1;32m    821\u001b[0m     \u001b[0;32mdef\u001b[0m \u001b[0mclose\u001b[0m\u001b[0;34m(\u001b[0m\u001b[0mself\u001b[0m\u001b[0;34m)\u001b[0m\u001b[0;34m:\u001b[0m\u001b[0;34m\u001b[0m\u001b[0;34m\u001b[0m\u001b[0m\n",
      "\u001b[0;32m~/opt/anaconda3/envs/metis/lib/python3.8/site-packages/pandas/io/parsers.py\u001b[0m in \u001b[0;36m_make_engine\u001b[0;34m(self, engine)\u001b[0m\n\u001b[1;32m   1048\u001b[0m             )\n\u001b[1;32m   1049\u001b[0m         \u001b[0;31m# error: Too many arguments for \"ParserBase\"\u001b[0m\u001b[0;34m\u001b[0m\u001b[0;34m\u001b[0m\u001b[0;34m\u001b[0m\u001b[0m\n\u001b[0;32m-> 1050\u001b[0;31m         \u001b[0;32mreturn\u001b[0m \u001b[0mmapping\u001b[0m\u001b[0;34m[\u001b[0m\u001b[0mengine\u001b[0m\u001b[0;34m]\u001b[0m\u001b[0;34m(\u001b[0m\u001b[0mself\u001b[0m\u001b[0;34m.\u001b[0m\u001b[0mf\u001b[0m\u001b[0;34m,\u001b[0m \u001b[0;34m**\u001b[0m\u001b[0mself\u001b[0m\u001b[0;34m.\u001b[0m\u001b[0moptions\u001b[0m\u001b[0;34m)\u001b[0m  \u001b[0;31m# type: ignore[call-arg]\u001b[0m\u001b[0;34m\u001b[0m\u001b[0;34m\u001b[0m\u001b[0m\n\u001b[0m\u001b[1;32m   1051\u001b[0m \u001b[0;34m\u001b[0m\u001b[0m\n\u001b[1;32m   1052\u001b[0m     \u001b[0;32mdef\u001b[0m \u001b[0m_failover_to_python\u001b[0m\u001b[0;34m(\u001b[0m\u001b[0mself\u001b[0m\u001b[0;34m)\u001b[0m\u001b[0;34m:\u001b[0m\u001b[0;34m\u001b[0m\u001b[0;34m\u001b[0m\u001b[0m\n",
      "\u001b[0;32m~/opt/anaconda3/envs/metis/lib/python3.8/site-packages/pandas/io/parsers.py\u001b[0m in \u001b[0;36m__init__\u001b[0;34m(self, src, **kwds)\u001b[0m\n\u001b[1;32m   1865\u001b[0m \u001b[0;34m\u001b[0m\u001b[0m\n\u001b[1;32m   1866\u001b[0m         \u001b[0;31m# open handles\u001b[0m\u001b[0;34m\u001b[0m\u001b[0;34m\u001b[0m\u001b[0;34m\u001b[0m\u001b[0m\n\u001b[0;32m-> 1867\u001b[0;31m         \u001b[0mself\u001b[0m\u001b[0;34m.\u001b[0m\u001b[0m_open_handles\u001b[0m\u001b[0;34m(\u001b[0m\u001b[0msrc\u001b[0m\u001b[0;34m,\u001b[0m \u001b[0mkwds\u001b[0m\u001b[0;34m)\u001b[0m\u001b[0;34m\u001b[0m\u001b[0;34m\u001b[0m\u001b[0m\n\u001b[0m\u001b[1;32m   1868\u001b[0m         \u001b[0;32massert\u001b[0m \u001b[0mself\u001b[0m\u001b[0;34m.\u001b[0m\u001b[0mhandles\u001b[0m \u001b[0;32mis\u001b[0m \u001b[0;32mnot\u001b[0m \u001b[0;32mNone\u001b[0m\u001b[0;34m\u001b[0m\u001b[0;34m\u001b[0m\u001b[0m\n\u001b[1;32m   1869\u001b[0m         \u001b[0;32mfor\u001b[0m \u001b[0mkey\u001b[0m \u001b[0;32min\u001b[0m \u001b[0;34m(\u001b[0m\u001b[0;34m\"storage_options\"\u001b[0m\u001b[0;34m,\u001b[0m \u001b[0;34m\"encoding\"\u001b[0m\u001b[0;34m,\u001b[0m \u001b[0;34m\"memory_map\"\u001b[0m\u001b[0;34m,\u001b[0m \u001b[0;34m\"compression\"\u001b[0m\u001b[0;34m)\u001b[0m\u001b[0;34m:\u001b[0m\u001b[0;34m\u001b[0m\u001b[0;34m\u001b[0m\u001b[0m\n",
      "\u001b[0;32m~/opt/anaconda3/envs/metis/lib/python3.8/site-packages/pandas/io/parsers.py\u001b[0m in \u001b[0;36m_open_handles\u001b[0;34m(self, src, kwds)\u001b[0m\n\u001b[1;32m   1360\u001b[0m         \u001b[0mLet\u001b[0m \u001b[0mthe\u001b[0m \u001b[0mreaders\u001b[0m \u001b[0mopen\u001b[0m \u001b[0mIOHanldes\u001b[0m \u001b[0mafter\u001b[0m \u001b[0mthey\u001b[0m \u001b[0mare\u001b[0m \u001b[0mdone\u001b[0m \u001b[0;32mwith\u001b[0m \u001b[0mtheir\u001b[0m \u001b[0mpotential\u001b[0m \u001b[0mraises\u001b[0m\u001b[0;34m.\u001b[0m\u001b[0;34m\u001b[0m\u001b[0;34m\u001b[0m\u001b[0m\n\u001b[1;32m   1361\u001b[0m         \"\"\"\n\u001b[0;32m-> 1362\u001b[0;31m         self.handles = get_handle(\n\u001b[0m\u001b[1;32m   1363\u001b[0m             \u001b[0msrc\u001b[0m\u001b[0;34m,\u001b[0m\u001b[0;34m\u001b[0m\u001b[0;34m\u001b[0m\u001b[0m\n\u001b[1;32m   1364\u001b[0m             \u001b[0;34m\"r\"\u001b[0m\u001b[0;34m,\u001b[0m\u001b[0;34m\u001b[0m\u001b[0;34m\u001b[0m\u001b[0m\n",
      "\u001b[0;32m~/opt/anaconda3/envs/metis/lib/python3.8/site-packages/pandas/io/common.py\u001b[0m in \u001b[0;36mget_handle\u001b[0;34m(path_or_buf, mode, encoding, compression, memory_map, is_text, errors, storage_options)\u001b[0m\n\u001b[1;32m    640\u001b[0m                 \u001b[0merrors\u001b[0m \u001b[0;34m=\u001b[0m \u001b[0;34m\"replace\"\u001b[0m\u001b[0;34m\u001b[0m\u001b[0;34m\u001b[0m\u001b[0m\n\u001b[1;32m    641\u001b[0m             \u001b[0;31m# Encoding\u001b[0m\u001b[0;34m\u001b[0m\u001b[0;34m\u001b[0m\u001b[0;34m\u001b[0m\u001b[0m\n\u001b[0;32m--> 642\u001b[0;31m             handle = open(\n\u001b[0m\u001b[1;32m    643\u001b[0m                 \u001b[0mhandle\u001b[0m\u001b[0;34m,\u001b[0m\u001b[0;34m\u001b[0m\u001b[0;34m\u001b[0m\u001b[0m\n\u001b[1;32m    644\u001b[0m                 \u001b[0mioargs\u001b[0m\u001b[0;34m.\u001b[0m\u001b[0mmode\u001b[0m\u001b[0;34m,\u001b[0m\u001b[0;34m\u001b[0m\u001b[0;34m\u001b[0m\u001b[0m\n",
      "\u001b[0;31mFileNotFoundError\u001b[0m: [Errno 2] No such file or directory: './data/data.csv'"
     ]
    }
   ],
   "source": [
    "df = pd.read_csv('./data/data.csv')"
   ]
  },
  {
   "cell_type": "code",
   "execution_count": null,
   "id": "iraqi-sleep",
   "metadata": {
    "tags": []
   },
   "outputs": [],
   "source": [
    "df.dtypes"
   ]
  },
  {
   "cell_type": "code",
   "execution_count": null,
   "id": "complicated-marijuana",
   "metadata": {
    "jupyter": {
     "source_hidden": true
    },
    "tags": []
   },
   "outputs": [],
   "source": [
    "column_list = df.columns\n",
    "column_list"
   ]
  },
  {
   "cell_type": "markdown",
   "id": "robust-instruction",
   "metadata": {
    "tags": []
   },
   "source": [
    "# FUNCTIONS"
   ]
  },
  {
   "cell_type": "code",
   "execution_count": null,
   "id": "capable-restaurant",
   "metadata": {
    "tags": []
   },
   "outputs": [],
   "source": [
    "def percent_na_df(df,feature_list):\n",
    "    \n",
    "    '''\n",
    "    This function takes in a dataframe and feature list\n",
    "    (1) calculates the percentage of NAN per feature\n",
    "    \n",
    "    Returns a dataframe showing percent NAN per feature\n",
    "    '''\n",
    "    \n",
    "    num_na = []\n",
    "    col_list = []\n",
    "    for column in df[feature_list].columns:\n",
    "        col_list.append(column)\n",
    "        num_na.append(round(df[column].isna().sum()/df.shape[0]*100,2))\n",
    "\n",
    "    zipped = list(zip(col_list,num_na))\n",
    "    zorted = sorted(zipped,key=lambda x:x[1],reverse=True)\n",
    "    \n",
    "    zorted_vals = [[val[1]] for val in zorted]\n",
    "    zorted_feats = [[feat[0]]for feat in zorted]\n",
    "    \n",
    "    nans_ = pd.DataFrame(zorted_vals,columns=['percent_na'])\n",
    "    feats_ = pd.DataFrame(zorted_feats,columns=['features'])\n",
    "    nans_df = feats_.merge(nans_,left_index=True,right_index=True)\n",
    "    nans_df_sorted = nans_df.sort_values(['percent_na'],ascending=True)\n",
    "    return nans_df_sorted\n",
    "\n",
    "\n",
    "def select_correlated(df):\n",
    "       \n",
    "    '''\n",
    "    This function takes in a dataframe\n",
    "    (1) calculates the correlation of each feature with the target\n",
    "    (2) creates a dataframe of features, correlations, and percent NA\n",
    "    (3) drops the features where more than 58% of the data is NA\n",
    "    (4) drops the features that are not very correlated with target\n",
    "    \n",
    "    Returns the dataframe\n",
    "    '''\n",
    "    \n",
    "    nans_df = percent_na(df)\n",
    "    corr_ = df.corr()[['diabetes_mellitus']].reset_index()\n",
    "    corr_nans = nans_df.merge(corr_,left_on='features',right_on='index')\n",
    "    corr_nans.drop(columns='index',axis=1,inplace=True)\n",
    "    \n",
    "    corr_sort = corr_nans.sort_values(['diabetes_mellitus'],ascending=False)\n",
    "    corr_sort_drop = corr_sort[corr_sort['percent_na'] < 58].copy()\n",
    "    corr_sort_drop_2 = corr_sort_drop[(corr_sort_drop['diabetes_mellitus'] > .03) | \\\n",
    "                                      (corr_sort_drop['diabetes_mellitus'] < -.03)]\n",
    "    \n",
    "    return (corr_sort_drop_2)\n",
    "\n",
    "    \n",
    "def correlated_features(df):\n",
    "    '''\n",
    "    This function returns the feature list from the above function\n",
    "    '''\n",
    "    \n",
    "    corr_sort_drop_2 = show_correlated(df)  \n",
    "    return (list(corr_sort_drop_2['features']))\n",
    "\n",
    "\n",
    "def na_feature_list(df,feature_list):\n",
    "    \n",
    "    '''This function returns a subset of features -- the features that contain NAN values\n",
    "    --- from the correlated features list above'''\n",
    "    \n",
    "    nans_df = percent_na_df(df,feature_list)\n",
    "    nans_df_drop = nans_df[nans_df['percent_na'] != 0]\n",
    "    \n",
    "    return nans_df_drop['features']\n",
    "\n",
    "def no_nulls_features(df,feature_list):\n",
    "    \n",
    "    '''This function returns a subset of features -- the features that DO NOT contain NAN values\n",
    "    --- from the full list of continuous features'''\n",
    "\n",
    "    df_ = percent_na_df(df,feature_list)\n",
    "    nonull_df = df_[df_['percent_na'] == 0]\n",
    "    \n",
    "    return nonull_df['features']"
   ]
  },
  {
   "cell_type": "markdown",
   "id": "proof-white",
   "metadata": {},
   "source": [
    "# SUPER BASIC"
   ]
  },
  {
   "cell_type": "code",
   "execution_count": null,
   "id": "similar-ambassador",
   "metadata": {},
   "outputs": [],
   "source": [
    "continuous_features = []\n",
    "categorical_features = []\n",
    "def type_groups(df):\n",
    "    for column in df.columns:\n",
    "        if df[column].dtype == 'int64' or df[column].dtype == 'float64':\n",
    "            continuous_features.append(column)\n",
    "        elif df[column].dtype == 'object':\n",
    "            categorical_features.append(column)\n",
    "        else:\n",
    "            pass\n",
    "    return"
   ]
  },
  {
   "cell_type": "code",
   "execution_count": null,
   "id": "equipped-interest",
   "metadata": {},
   "outputs": [],
   "source": [
    "type_groups(df)"
   ]
  },
  {
   "cell_type": "code",
   "execution_count": null,
   "id": "differential-compiler",
   "metadata": {},
   "outputs": [],
   "source": [
    "# isolate continuous features minus the irrelevant 'Unnamed: 0', 'encounter_id', 'hospital_id'\n",
    "\n",
    "continuous_features = continuous_features[3:].copy()"
   ]
  },
  {
   "cell_type": "code",
   "execution_count": null,
   "id": "precious-explorer",
   "metadata": {},
   "outputs": [],
   "source": [
    "# insert target to our categorical_features list\n",
    "# for correlation calculation later\n",
    "\n",
    "categorical_features.append('diabetes_mellitus')"
   ]
  },
  {
   "cell_type": "code",
   "execution_count": null,
   "id": "joined-contrast",
   "metadata": {},
   "outputs": [],
   "source": [
    "# set up DF with continuous variables `and categorical variables to handle separately\n",
    "\n",
    "df_cont = df[continuous_features]\n",
    "df_cat = df[categorical_features]"
   ]
  },
  {
   "cell_type": "code",
   "execution_count": null,
   "id": "desirable-samba",
   "metadata": {},
   "outputs": [],
   "source": [
    "df_cat.to_csv('./data/categorical_df.csv',index=False)"
   ]
  },
  {
   "cell_type": "code",
   "execution_count": null,
   "id": "fatty-lincoln",
   "metadata": {
    "tags": []
   },
   "outputs": [],
   "source": [
    "feature_list = correlated_features(df_cont)[:15]\n",
    "feature_list"
   ]
  },
  {
   "cell_type": "code",
   "execution_count": null,
   "id": "federal-cassette",
   "metadata": {},
   "outputs": [],
   "source": [
    "first_pass = df_cont[feature_list]\n",
    "df_fillna = first_pass.fillna(first_pass.median())\n",
    "df_fillna"
   ]
  },
  {
   "cell_type": "code",
   "execution_count": null,
   "id": "different-sussex",
   "metadata": {},
   "outputs": [],
   "source": [
    "X = df_fillna.iloc[:,1:]\n",
    "y = df_fillna['diabetes_mellitus']\n",
    "\n",
    "X_train, X_hold, y_train, y_hold = train_test_split(X, y, test_size=0.20, random_state=18)\n",
    "\n",
    "X_train.to_csv('./data/processed_first_X_15.csv',index=False)\n",
    "y_train.to_csv('./data/processed_first_y_15.csv',index=False)"
   ]
  },
  {
   "cell_type": "markdown",
   "id": "liberal-local",
   "metadata": {},
   "source": [
    "# DUMMY CATEGORICAL VARIABLE HANDLING"
   ]
  },
  {
   "cell_type": "code",
   "execution_count": null,
   "id": "alone-projector",
   "metadata": {},
   "outputs": [],
   "source": [
    "# dummify\n",
    "\n",
    "cat_dummies = pd.get_dummies(df_cat,columns=['ethnicity','gender','hospital_admit_source',\n",
    "                                             'icu_admit_source','icu_stay_type','icu_type'],\n",
    "                             dummy_na=True)"
   ]
  },
  {
   "cell_type": "code",
   "execution_count": null,
   "id": "every-vegetarian",
   "metadata": {},
   "outputs": [],
   "source": [
    "# combine ethnicity \"other\" and ethnicity \"na\" to one category\n",
    "# drop original\n",
    "# drop icu stay and icu type nan\n",
    "\n",
    "cat_dummies['ethnicity_other_na'] = cat_dummies['ethnicity_Other/Unknown'] + \\\n",
    "                                                                cat_dummies['ethnicity_nan']\n",
    "cat_dummies.drop(columns=['ethnicity_Other/Unknown','ethnicity_nan',\n",
    "                          'icu_stay_type_nan','icu_type_nan'],inplace=True,axis=1)"
   ]
  },
  {
   "cell_type": "code",
   "execution_count": null,
   "id": "dated-medicaid",
   "metadata": {},
   "outputs": [],
   "source": [
    "# drop some other categories\n",
    "\n",
    "cat_dummies.drop(columns=['ethnicity_Native American','gender_nan',\n",
    "                          'icu_type_CTICU','icu_stay_type_readmit'],axis=1,inplace=True)"
   ]
  },
  {
   "cell_type": "markdown",
   "id": "sitting-clear",
   "metadata": {},
   "source": [
    "# APPLY FUNCTIONS"
   ]
  },
  {
   "cell_type": "code",
   "execution_count": null,
   "id": "native-tennis",
   "metadata": {
    "tags": []
   },
   "outputs": [],
   "source": [
    "# continuous variable correlation DF\n",
    "\n",
    "select_correlated(df_cont)"
   ]
  },
  {
   "cell_type": "code",
   "execution_count": null,
   "id": "functional-psychology",
   "metadata": {},
   "outputs": [],
   "source": [
    "# continuous variable correlated features list\n",
    "\n",
    "correlated_features = correlated_features(df_cont)"
   ]
  },
  {
   "cell_type": "code",
   "execution_count": null,
   "id": "beginning-litigation",
   "metadata": {
    "tags": []
   },
   "outputs": [],
   "source": [
    "# percent NAN of selected correlated feature (37) DF\n",
    "\n",
    "percent_na_df(df_cont,correlated_features)"
   ]
  },
  {
   "cell_type": "code",
   "execution_count": null,
   "id": "mental-thesis",
   "metadata": {},
   "outputs": [],
   "source": [
    "# features with NAN in our selected correlated features\n",
    "\n",
    "na_features = na_feature_list(df_cont,correlated_features)"
   ]
  },
  {
   "cell_type": "code",
   "execution_count": null,
   "id": "collective-belle",
   "metadata": {
    "tags": []
   },
   "outputs": [],
   "source": [
    "na_features #35 features -- REMINDER arf_apache not in list "
   ]
  },
  {
   "cell_type": "code",
   "execution_count": null,
   "id": "inclusive-korean",
   "metadata": {
    "jupyter": {
     "source_hidden": true
    },
    "tags": []
   },
   "outputs": [],
   "source": [
    "# features with NO NAN values that we will use to train model\n",
    "\n",
    "notnull_features = no_nulls_features(df_cont,continuous_features)[1:] #remove target\n",
    "notnull_features"
   ]
  },
  {
   "cell_type": "markdown",
   "id": "drawn-humanity",
   "metadata": {},
   "source": [
    "# IMPUTE NAN WITH KNN"
   ]
  },
  {
   "cell_type": "code",
   "execution_count": null,
   "id": "running-general",
   "metadata": {},
   "outputs": [],
   "source": [
    "from sklearn.neighbors import KNeighborsClassifier"
   ]
  },
  {
   "cell_type": "code",
   "execution_count": null,
   "id": "fresh-mailman",
   "metadata": {},
   "outputs": [],
   "source": [
    "df_copy = df_cont.copy()"
   ]
  },
  {
   "cell_type": "code",
   "execution_count": null,
   "id": "stone-framing",
   "metadata": {},
   "outputs": [],
   "source": [
    "def impute_these_NAN(df,notnull_features,na_features):\n",
    "    copy = df.copy()\n",
    "    \n",
    "    for feature in na_features:\n",
    "        df_ = copy[copy[feature].notnull()]\n",
    "        \n",
    "        X = df_[notnull_features]\n",
    "        y = df_[feature].astype(int)\n",
    "#        print('\\n\\nFEATURE: ',feature)\n",
    "#        print('X-matrix SHAPE: ',X.shape)\n",
    "#        print('y SHAPE: ',y.shape)\n",
    "    \n",
    "        knn = KNeighborsClassifier(3,weights='distance')\n",
    "        model = knn.fit(X,y)\n",
    "\n",
    "        missing = copy[feature].isnull()\n",
    "        df_missing = pd.DataFrame(copy[notnull_features][missing])\n",
    "        \n",
    "        impute = model.predict(df_missing)\n",
    "        \n",
    "        gen_alt = (alt for alt in impute)\n",
    "        for i, value in enumerate(copy[feature]):\n",
    "            if not pd.isnull(value): continue\n",
    "            try:\n",
    "                copy[feature].iloc[i] = next(gen_alt)\n",
    "            except StopIteration:\n",
    "                break\n",
    "                \n",
    "#        print(copy[feature].isnull().value_counts())\n",
    "    return copy[na_features]"
   ]
  },
  {
   "cell_type": "code",
   "execution_count": null,
   "id": "great-market",
   "metadata": {
    "tags": []
   },
   "outputs": [],
   "source": [
    "impute_df = impute_these_NAN(df_copy,notnull_features,na_features)"
   ]
  },
  {
   "cell_type": "code",
   "execution_count": null,
   "id": "russian-indonesian",
   "metadata": {
    "jupyter": {
     "source_hidden": true
    },
    "tags": []
   },
   "outputs": [],
   "source": [
    "impute_df"
   ]
  },
  {
   "cell_type": "code",
   "execution_count": null,
   "id": "stopped-processing",
   "metadata": {
    "tags": []
   },
   "outputs": [],
   "source": [
    "# sanity check ...did we actually impute?\n",
    "impute_df.info()"
   ]
  },
  {
   "cell_type": "code",
   "execution_count": null,
   "id": "handled-cedar",
   "metadata": {},
   "outputs": [],
   "source": [
    "select_correlated(cat_dummies)"
   ]
  },
  {
   "cell_type": "code",
   "execution_count": null,
   "id": "important-criterion",
   "metadata": {
    "tags": []
   },
   "outputs": [],
   "source": [
    "# narrow down categorical features\n",
    "\n",
    "cat_correlated_features = correlated_features(cat_dummies)\n",
    "cat_correlated_features\n",
    "df_cat_select = cat_dummies[cat_correlated_features]"
   ]
  },
  {
   "cell_type": "code",
   "execution_count": null,
   "id": "improved-yukon",
   "metadata": {},
   "outputs": [],
   "source": [
    "df_all_but_one = df_cat_select.merge(impute_df,how='inner',left_index=True,right_index=True)"
   ]
  },
  {
   "cell_type": "code",
   "execution_count": null,
   "id": "satisfactory-madison",
   "metadata": {},
   "outputs": [],
   "source": [
    "df_all = df_all_but_one.merge(df_cont['arf_apache'],left_index=True,right_index=True)"
   ]
  },
  {
   "cell_type": "code",
   "execution_count": null,
   "id": "interracial-driver",
   "metadata": {},
   "outputs": [],
   "source": [
    "df_tableau_= df_cat.merge(impute_df,how='inner',left_index=True,right_index=True)"
   ]
  },
  {
   "cell_type": "code",
   "execution_count": null,
   "id": "eight-sequence",
   "metadata": {},
   "outputs": [],
   "source": [
    "df_tableau = df_tableau_.merge(df_cont['arf_apache'],left_index=True, right_index=True)"
   ]
  },
  {
   "cell_type": "code",
   "execution_count": null,
   "id": "present-search",
   "metadata": {},
   "outputs": [],
   "source": [
    "df_tableau.columns"
   ]
  },
  {
   "cell_type": "code",
   "execution_count": null,
   "id": "marked-buffer",
   "metadata": {},
   "outputs": [],
   "source": [
    "df_tableau.to_csv('./data/for_tableau.csv',index=False)"
   ]
  },
  {
   "cell_type": "code",
   "execution_count": null,
   "id": "average-filename",
   "metadata": {
    "tags": []
   },
   "outputs": [],
   "source": [
    "df_all.to_csv('./data/processed_all.csv',index=False)"
   ]
  },
  {
   "cell_type": "code",
   "execution_count": null,
   "id": "electronic-trader",
   "metadata": {
    "tags": []
   },
   "outputs": [],
   "source": [
    "X = df_all.iloc[:,1:]\n",
    "y = df_all['diabetes_mellitus']\n",
    "\n",
    "X_train, X_hold, y_train, y_hold = train_test_split(X, y, test_size=0.20, random_state=18)\n",
    "\n",
    "X_train.to_csv('./data/processed_second_X.csv',index=False)\n",
    "y_train.to_csv('./data/processed_second_y.csv',index=False)"
   ]
  },
  {
   "cell_type": "code",
   "execution_count": null,
   "id": "advanced-greeting",
   "metadata": {},
   "outputs": [],
   "source": [
    "X_hold.to_csv('./data/processed_HOLDOUT_X.csv',index=False)\n",
    "y_hold.to_csv('./data/processed_HOLDOUT_y.csv',index=False)"
   ]
  }
 ],
 "metadata": {
  "kernelspec": {
   "display_name": "Python [conda env:metis] *",
   "language": "python",
   "name": "conda-env-metis-py"
  },
  "language_info": {
   "codemirror_mode": {
    "name": "ipython",
    "version": 3
   },
   "file_extension": ".py",
   "mimetype": "text/x-python",
   "name": "python",
   "nbconvert_exporter": "python",
   "pygments_lexer": "ipython3",
   "version": "3.8.8"
  }
 },
 "nbformat": 4,
 "nbformat_minor": 5
}
