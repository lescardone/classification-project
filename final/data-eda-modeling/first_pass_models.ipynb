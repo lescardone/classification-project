{
 "cells": [
  {
   "cell_type": "code",
   "execution_count": 5,
   "id": "brilliant-mambo",
   "metadata": {},
   "outputs": [],
   "source": [
    "# the usual suspects\n",
    "import pandas as pd\n",
    "import numpy as np\n",
    "import matplotlib.pyplot as plt\n",
    "import seaborn as sns\n",
    "plt.style.use('fivethirtyeight')\n",
    "\n",
    "%matplotlib inline\n",
    "\n",
    "# modeling imports\n",
    "from sklearn.linear_model import LogisticRegression\n",
    "from sklearn.svm import LinearSVC\n",
    "from sklearn.model_selection import train_test_split\n",
    "from sklearn.metrics import precision_score, recall_score, accuracy_score, f1_score, roc_auc_score\n",
    "from sklearn.metrics import confusion_matrix\n",
    "\n",
    "from sklearn.tree import DecisionTreeClassifier\n",
    "from sklearn.ensemble import RandomForestClassifier\n",
    "\n",
    "# preprocessing\n",
    "from sklearn.preprocessing import StandardScaler\n",
    "from sklearn.pipeline import make_pipeline"
   ]
  },
  {
   "cell_type": "code",
   "execution_count": 6,
   "id": "committed-first",
   "metadata": {},
   "outputs": [],
   "source": [
    "X = pd.read_csv('./data/processed_first_X_15.csv')\n",
    "y = pd.read_csv('./data/processed_first_y_15.csv')"
   ]
  },
  {
   "cell_type": "code",
   "execution_count": 7,
   "id": "embedded-portable",
   "metadata": {},
   "outputs": [
    {
     "data": {
      "text/html": [
       "<div>\n",
       "<style scoped>\n",
       "    .dataframe tbody tr th:only-of-type {\n",
       "        vertical-align: middle;\n",
       "    }\n",
       "\n",
       "    .dataframe tbody tr th {\n",
       "        vertical-align: top;\n",
       "    }\n",
       "\n",
       "    .dataframe thead th {\n",
       "        text-align: right;\n",
       "    }\n",
       "</style>\n",
       "<table border=\"1\" class=\"dataframe\">\n",
       "  <thead>\n",
       "    <tr style=\"text-align: right;\">\n",
       "      <th></th>\n",
       "      <th>d1_glucose_max</th>\n",
       "      <th>glucose_apache</th>\n",
       "      <th>h1_glucose_max</th>\n",
       "      <th>h1_glucose_min</th>\n",
       "      <th>bmi</th>\n",
       "      <th>weight</th>\n",
       "      <th>d1_bun_max</th>\n",
       "      <th>bun_apache</th>\n",
       "      <th>d1_bun_min</th>\n",
       "      <th>d1_glucose_min</th>\n",
       "      <th>d1_creatinine_max</th>\n",
       "      <th>d1_creatinine_min</th>\n",
       "      <th>creatinine_apache</th>\n",
       "      <th>arf_apache</th>\n",
       "      <th>diabetes</th>\n",
       "    </tr>\n",
       "  </thead>\n",
       "  <tbody>\n",
       "    <tr>\n",
       "      <th>0</th>\n",
       "      <td>156.0</td>\n",
       "      <td>127.0</td>\n",
       "      <td>156.0</td>\n",
       "      <td>156.0</td>\n",
       "      <td>31.242126</td>\n",
       "      <td>77.5</td>\n",
       "      <td>12.0</td>\n",
       "      <td>12.0</td>\n",
       "      <td>12.0</td>\n",
       "      <td>127.0</td>\n",
       "      <td>0.70</td>\n",
       "      <td>0.70</td>\n",
       "      <td>0.70</td>\n",
       "      <td>0</td>\n",
       "      <td>0</td>\n",
       "    </tr>\n",
       "    <tr>\n",
       "      <th>1</th>\n",
       "      <td>175.0</td>\n",
       "      <td>118.0</td>\n",
       "      <td>140.0</td>\n",
       "      <td>134.0</td>\n",
       "      <td>20.976012</td>\n",
       "      <td>58.5</td>\n",
       "      <td>12.0</td>\n",
       "      <td>19.0</td>\n",
       "      <td>12.0</td>\n",
       "      <td>118.0</td>\n",
       "      <td>0.80</td>\n",
       "      <td>0.80</td>\n",
       "      <td>0.97</td>\n",
       "      <td>0</td>\n",
       "      <td>1</td>\n",
       "    </tr>\n",
       "    <tr>\n",
       "      <th>2</th>\n",
       "      <td>218.0</td>\n",
       "      <td>218.0</td>\n",
       "      <td>140.0</td>\n",
       "      <td>134.0</td>\n",
       "      <td>28.622530</td>\n",
       "      <td>80.4</td>\n",
       "      <td>7.0</td>\n",
       "      <td>7.0</td>\n",
       "      <td>7.0</td>\n",
       "      <td>129.0</td>\n",
       "      <td>0.68</td>\n",
       "      <td>0.68</td>\n",
       "      <td>0.68</td>\n",
       "      <td>0</td>\n",
       "      <td>1</td>\n",
       "    </tr>\n",
       "    <tr>\n",
       "      <th>3</th>\n",
       "      <td>97.0</td>\n",
       "      <td>97.0</td>\n",
       "      <td>140.0</td>\n",
       "      <td>134.0</td>\n",
       "      <td>23.474146</td>\n",
       "      <td>68.0</td>\n",
       "      <td>31.0</td>\n",
       "      <td>31.0</td>\n",
       "      <td>31.0</td>\n",
       "      <td>97.0</td>\n",
       "      <td>2.64</td>\n",
       "      <td>2.64</td>\n",
       "      <td>2.64</td>\n",
       "      <td>1</td>\n",
       "      <td>0</td>\n",
       "    </tr>\n",
       "    <tr>\n",
       "      <th>4</th>\n",
       "      <td>136.0</td>\n",
       "      <td>108.0</td>\n",
       "      <td>136.0</td>\n",
       "      <td>136.0</td>\n",
       "      <td>25.827271</td>\n",
       "      <td>70.4</td>\n",
       "      <td>20.0</td>\n",
       "      <td>20.0</td>\n",
       "      <td>20.0</td>\n",
       "      <td>108.0</td>\n",
       "      <td>1.20</td>\n",
       "      <td>1.20</td>\n",
       "      <td>1.20</td>\n",
       "      <td>0</td>\n",
       "      <td>0</td>\n",
       "    </tr>\n",
       "  </tbody>\n",
       "</table>\n",
       "</div>"
      ],
      "text/plain": [
       "   d1_glucose_max  glucose_apache  h1_glucose_max  h1_glucose_min        bmi  \\\n",
       "0           156.0           127.0           156.0           156.0  31.242126   \n",
       "1           175.0           118.0           140.0           134.0  20.976012   \n",
       "2           218.0           218.0           140.0           134.0  28.622530   \n",
       "3            97.0            97.0           140.0           134.0  23.474146   \n",
       "4           136.0           108.0           136.0           136.0  25.827271   \n",
       "\n",
       "   weight  d1_bun_max  bun_apache  d1_bun_min  d1_glucose_min  \\\n",
       "0    77.5        12.0        12.0        12.0           127.0   \n",
       "1    58.5        12.0        19.0        12.0           118.0   \n",
       "2    80.4         7.0         7.0         7.0           129.0   \n",
       "3    68.0        31.0        31.0        31.0            97.0   \n",
       "4    70.4        20.0        20.0        20.0           108.0   \n",
       "\n",
       "   d1_creatinine_max  d1_creatinine_min  creatinine_apache  arf_apache  \\\n",
       "0               0.70               0.70               0.70           0   \n",
       "1               0.80               0.80               0.97           0   \n",
       "2               0.68               0.68               0.68           0   \n",
       "3               2.64               2.64               2.64           1   \n",
       "4               1.20               1.20               1.20           0   \n",
       "\n",
       "   diabetes  \n",
       "0         0  \n",
       "1         1  \n",
       "2         1  \n",
       "3         0  \n",
       "4         0  "
      ]
     },
     "execution_count": 7,
     "metadata": {},
     "output_type": "execute_result"
    }
   ],
   "source": [
    "train_df = X.copy()\n",
    "train_df['diabetes'] = y\n",
    "train_df.head()"
   ]
  },
  {
   "cell_type": "code",
   "execution_count": 8,
   "id": "beginning-trick",
   "metadata": {},
   "outputs": [],
   "source": [
    "X_train, X_val, y_train, y_val = train_test_split(X, y, test_size=0.20, random_state=18)"
   ]
  },
  {
   "cell_type": "code",
   "execution_count": 9,
   "id": "marked-england",
   "metadata": {},
   "outputs": [],
   "source": [
    "y_train = np.array(y_train).ravel()\n",
    "y_val = np.array(y_val).ravel()"
   ]
  },
  {
   "cell_type": "markdown",
   "id": "incredible-investigator",
   "metadata": {},
   "source": [
    "## Logistic Regression"
   ]
  },
  {
   "cell_type": "markdown",
   "id": "geographic-carrier",
   "metadata": {},
   "source": [
    "### Baseline Score With 1 Feature: .798"
   ]
  },
  {
   "cell_type": "code",
   "execution_count": 10,
   "id": "present-measurement",
   "metadata": {},
   "outputs": [],
   "source": [
    "X_train_1 = X_train[['d1_glucose_max']]\n",
    "X_val_1 = X_val[['d1_glucose_max']]"
   ]
  },
  {
   "cell_type": "code",
   "execution_count": 11,
   "id": "chubby-crystal",
   "metadata": {},
   "outputs": [
    {
     "data": {
      "text/plain": [
       "LogisticRegression(C=1000)"
      ]
     },
     "execution_count": 11,
     "metadata": {},
     "output_type": "execute_result"
    }
   ],
   "source": [
    "# without regularization\n",
    "lm1 = LogisticRegression(C=1000)\n",
    "lm1.fit(X_train_1, y_train)"
   ]
  },
  {
   "cell_type": "code",
   "execution_count": 12,
   "id": "chief-edition",
   "metadata": {},
   "outputs": [],
   "source": [
    "yhat_val_1 = lm1.predict(X_val_1)\n",
    "yhat_train = lm1.predict(X_train_1)"
   ]
  },
  {
   "cell_type": "code",
   "execution_count": 13,
   "id": "reduced-leone",
   "metadata": {},
   "outputs": [
    {
     "data": {
      "text/plain": [
       "(array([[0.01098291]]), array([-3.31716356]))"
      ]
     },
     "execution_count": 13,
     "metadata": {},
     "output_type": "execute_result"
    }
   ],
   "source": [
    "lm1.coef_, lm1.intercept_"
   ]
  },
  {
   "cell_type": "code",
   "execution_count": 14,
   "id": "sized-carrier",
   "metadata": {},
   "outputs": [
    {
     "name": "stdout",
     "output_type": "stream",
     "text": [
      "0.7984393757503001\n",
      "0.7985594237695078\n"
     ]
    }
   ],
   "source": [
    "print(lm1.score(X_train_1, y_train))\n",
    "print(lm1.score(X_val_1,y_val))"
   ]
  },
  {
   "cell_type": "code",
   "execution_count": 15,
   "id": "intense-memorial",
   "metadata": {},
   "outputs": [
    {
     "name": "stdout",
     "output_type": "stream",
     "text": [
      "Default Threshold TRAIN:\n",
      "Precision: 0.6072,   Recall: 0.2106 \n",
      "F1: 0.3127\n",
      "Default Threshold V:\n",
      "Precision: 0.5913,   Recall: 0.2115 \n",
      "F1: 0.3115\n"
     ]
    }
   ],
   "source": [
    "print(\"Default Threshold TRAIN:\")\n",
    "print(\"Precision: {:6.4f},   Recall: {:6.4f} \\nF1: {:6.4f}\".format(precision_score(y_train, yhat_train), \n",
    "                                                     recall_score(y_train, yhat_train),\n",
    "                                                     f1_score(y_train, yhat_train)))\n",
    "print(\"Default Threshold V:\")\n",
    "print(\"Precision: {:6.4f},   Recall: {:6.4f} \\nF1: {:6.4f}\".format(precision_score(y_val, yhat_val_1), \n",
    "                                                     recall_score(y_val, yhat_val_1),\n",
    "                                                     f1_score(y_val, yhat_val_1)))"
   ]
  },
  {
   "cell_type": "code",
   "execution_count": 20,
   "id": "english-retirement",
   "metadata": {
    "tags": []
   },
   "outputs": [],
   "source": [
    "def make_confusion_matrix(model, threshold=0.5):\n",
    "    # Predict class 1 if probability of being in class 1 is greater than threshold\n",
    "    # (model.predict(X_test) does this automatically with a threshold of 0.5)\n",
    "    y_hat_1 = (model.predict_proba(X_val_1)[:, 1] >= threshold)\n",
    "    diabetes_confusion_1 = confusion_matrix(y_val, y_hat_1)\n",
    "    plt.figure(dpi=150)\n",
    "    sns.heatmap(diabetes_confusion_1, cmap=plt.cm.Blues, annot=True, square=True, fmt='d',\n",
    "           xticklabels=['pred no', 'pred yes'],\n",
    "           yticklabels=['actual no', 'actual yes']);\n",
    "    plt.title('baseline confusion matrix')\n",
    "    plt.savefig('../../project-checkpoints/baseline_confusion.png')\n",
    "    # plt.xlabel('prediction')\n",
    "    # plt.ylabel('actual')"
   ]
  },
  {
   "cell_type": "code",
   "execution_count": 22,
   "id": "formed-israeli",
   "metadata": {
    "tags": []
   },
   "outputs": [
    {
     "data": {
      "image/png": "[encoded data removed]",
      "text/plain": [
       "<Figure size 900x600 with 2 Axes>"
      ]
     },
     "metadata": {
      "needs_background": "light"
     },
     "output_type": "display_data"
    }
   ],
   "source": [
    "make_confusion_matrix(lm1)"
   ]
  },
  {
   "cell_type": "markdown",
   "id": "surgical-clinic",
   "metadata": {},
   "source": [
    "### Score With 10 Features: .800"
   ]
  },
  {
   "cell_type": "code",
   "execution_count": 23,
   "id": "scientific-large",
   "metadata": {
    "tags": []
   },
   "outputs": [
    {
     "data": {
      "text/plain": [
       "StandardScaler()"
      ]
     },
     "execution_count": 23,
     "metadata": {},
     "output_type": "execute_result"
    }
   ],
   "source": [
    "sts = StandardScaler()\n",
    "sts.fit(X_train)"
   ]
  },
  {
   "cell_type": "code",
   "execution_count": 24,
   "id": "sticky-enhancement",
   "metadata": {},
   "outputs": [],
   "source": [
    "X_train_scale = sts.transform(X_train)\n",
    "X_val_scale = sts.transform(X_val)"
   ]
  },
  {
   "cell_type": "code",
   "execution_count": 25,
   "id": "enabling-anime",
   "metadata": {
    "tags": []
   },
   "outputs": [],
   "source": [
    "# with L2 regularization\n",
    "lm_l2 = LogisticRegression(C=1).fit(X_train_scale, y_train)"
   ]
  },
  {
   "cell_type": "code",
   "execution_count": 26,
   "id": "cosmetic-connection",
   "metadata": {},
   "outputs": [],
   "source": [
    "# with L1 regularization\n",
    "lm_l1 = LogisticRegression(C=1, solver='liblinear',penalty='l1').fit(X_train_scale, y_train)"
   ]
  },
  {
   "cell_type": "code",
   "execution_count": 27,
   "id": "commercial-relief",
   "metadata": {},
   "outputs": [],
   "source": [
    "yhat_l2_val = lm_l2.predict(X_val_scale)\n",
    "yhat_l1_val = lm_l1.predict(X_val_scale)"
   ]
  },
  {
   "cell_type": "code",
   "execution_count": 28,
   "id": "federal-surgeon",
   "metadata": {},
   "outputs": [],
   "source": [
    "feat_14 = X_train.columns"
   ]
  },
  {
   "cell_type": "code",
   "execution_count": 29,
   "id": "effective-civilian",
   "metadata": {
    "tags": []
   },
   "outputs": [
    {
     "data": {
      "text/plain": [
       "[('d1_glucose_max', 1.1658401788568638),\n",
       " ('glucose_apache', -0.1659023790988181),\n",
       " ('h1_glucose_max', -0.11558507011771064),\n",
       " ('h1_glucose_min', -0.0008315773490750785),\n",
       " ('bmi', 0.23425463440627362),\n",
       " ('weight', 0.12382683217920447),\n",
       " ('d1_bun_max', -0.034777352665689154),\n",
       " ('bun_apache', -0.05890596318304897),\n",
       " ('d1_bun_min', 0.2597423859162611),\n",
       " ('d1_glucose_min', -0.05437087516328682),\n",
       " ('d1_creatinine_max', -0.39382329890349976),\n",
       " ('d1_creatinine_min', 0.314992521523454),\n",
       " ('creatinine_apache', 0.0356188257273821),\n",
       " ('arf_apache', 0.21508086300178011)]"
      ]
     },
     "execution_count": 29,
     "metadata": {},
     "output_type": "execute_result"
    }
   ],
   "source": [
    "list(zip(feat_14,lm_l2.coef_[0,:]))"
   ]
  },
  {
   "cell_type": "code",
   "execution_count": 31,
   "id": "simple-check",
   "metadata": {},
   "outputs": [
    {
     "name": "stdout",
     "output_type": "stream",
     "text": [
      "Train Score (L2):  0.802797118847539\n",
      "Val Score (L2):  0.802016806722689\n",
      "Train Score (L1):  0.802797118847539\n",
      "Val Score (L1):  0.802016806722689\n"
     ]
    }
   ],
   "source": [
    "print('Train Score (L2): ',lm_l2.score(X_train_scale, y_train))\n",
    "print('Val Score (L2): ',lm_l2.score(X_val_scale,y_val))\n",
    "print('Train Score (L1): ',lm_l1.score(X_train_scale, y_train))\n",
    "print('Val Score (L1): ',lm_l1.score(X_val_scale,y_val))"
   ]
  },
  {
   "cell_type": "code",
   "execution_count": 32,
   "id": "joined-christmas",
   "metadata": {},
   "outputs": [
    {
     "name": "stdout",
     "output_type": "stream",
     "text": [
      "L2 Regularization:\n",
      "Precision: 0.5943,   Recall: 0.2562,\n",
      "F1: 0.3581\n",
      "\n",
      "L1 Regularization:\n",
      "Precision: 0.5944,   Recall: 0.2560,\n",
      "F1: 0.3579\n",
      "\n"
     ]
    }
   ],
   "source": [
    "print(\"L2 Regularization:\")\n",
    "print(\"Precision: {:6.4f},   Recall: {:6.4f},\\nF1: {:6.4f}\\n\".format(precision_score(y_val, yhat_l2_val), \n",
    "                                                     recall_score(y_val, yhat_l2_val),\n",
    "                                                     f1_score(y_val,yhat_l2_val)))\n",
    "\n",
    "print(\"L1 Regularization:\")\n",
    "print(\"Precision: {:6.4f},   Recall: {:6.4f},\\nF1: {:6.4f}\\n\".format(precision_score(y_val, yhat_l1_val), \n",
    "                                                     recall_score(y_val, yhat_l1_val),\n",
    "                                                     f1_score(y_val,yhat_l1_val)))"
   ]
  },
  {
   "cell_type": "code",
   "execution_count": 33,
   "id": "sharing-bundle",
   "metadata": {
    "tags": []
   },
   "outputs": [],
   "source": [
    "def make_confusion_matrix_10(model, threshold=0.5):\n",
    "    y_hat = (model.predict_proba(X_val_scale)[:, 1] >= threshold)\n",
    "    diabetes_confusion = confusion_matrix(y_val, y_hat)\n",
    "    \n",
    "    plt.figure(dpi=300)\n",
    "    sns.heatmap(diabetes_confusion, cmap=plt.cm.Blues, annot=True, square=True, fmt='d',\n",
    "           xticklabels=['pred no', 'pred yes'],\n",
    "           yticklabels=['actual no', 'actual yes']);\n",
    "    plt.title('Confusion Matrix -- Limited Features')\n",
    "    plt.savefig('../images/graphs/tenfeat_confusion.png')\n",
    "    \n",
    "    # plt.xlabel('prediction')\n",
    "    # plt.ylabel('actual')"
   ]
  },
  {
   "cell_type": "code",
   "execution_count": 34,
   "id": "academic-output",
   "metadata": {
    "tags": []
   },
   "outputs": [
    {
     "data": {
      "image/png": "[encoded data removed]",
      "text/plain": [
       "<Figure size 1800x1200 with 2 Axes>"
      ]
     },
     "metadata": {
      "needs_background": "light"
     },
     "output_type": "display_data"
    }
   ],
   "source": [
    "make_confusion_matrix_10(lm_l1)"
   ]
  },
  {
   "cell_type": "markdown",
   "id": "constitutional-sharing",
   "metadata": {},
   "source": [
    "## Random Forest"
   ]
  },
  {
   "cell_type": "code",
   "execution_count": 35,
   "id": "homeless-junction",
   "metadata": {},
   "outputs": [],
   "source": [
    "rf = RandomForestClassifier(n_estimators=100,class_weight={0: 1, 1: 4})\n",
    "rf.fit(X_train,y_train)\n",
    "yhat_val = rf.predict(X_val)"
   ]
  },
  {
   "cell_type": "code",
   "execution_count": 36,
   "id": "initial-discovery",
   "metadata": {},
   "outputs": [
    {
     "name": "stdout",
     "output_type": "stream",
     "text": [
      "0.9990756302521009\n",
      "0.8081152460984393\n",
      "0.43076923076923074\n"
     ]
    }
   ],
   "source": [
    "print(rf.score(X_train,y_train))\n",
    "print(rf.score(X_val,y_val))\n",
    "print(f1_score(y_val,yhat_val))"
   ]
  },
  {
   "cell_type": "code",
   "execution_count": 39,
   "id": "respective-cover",
   "metadata": {},
   "outputs": [
    {
     "data": {
      "text/plain": [
       "[('d1_glucose_max', 0.18464240397988824),\n",
       " ('glucose_apache', 0.13242192880741183),\n",
       " ('h1_glucose_max', 0.05401754488139581),\n",
       " ('h1_glucose_min', 0.048777136438599066),\n",
       " ('bmi', 0.10210514685447623),\n",
       " ('weight', 0.087203268110789),\n",
       " ('d1_bun_max', 0.04556072321421993),\n",
       " ('bun_apache', 0.04190156570929291),\n",
       " ('d1_bun_min', 0.046486680205152495),\n",
       " ('d1_glucose_min', 0.07620102255706135),\n",
       " ('d1_creatinine_max', 0.06242291287931199),\n",
       " ('d1_creatinine_min', 0.06059454658367056),\n",
       " ('creatinine_apache', 0.05278200311766923),\n",
       " ('arf_apache', 0.004883116661061419)]"
      ]
     },
     "execution_count": 39,
     "metadata": {},
     "output_type": "execute_result"
    }
   ],
   "source": [
    "list(zip(X_val.columns,rf.feature_importances_))"
   ]
  }
 ],
 "metadata": {
  "kernelspec": {
   "display_name": "Python [conda env:metis] *",
   "language": "python",
   "name": "conda-env-metis-py"
  },
  "language_info": {
   "codemirror_mode": {
    "name": "ipython",
    "version": 3
   },
   "file_extension": ".py",
   "mimetype": "text/x-python",
   "name": "python",
   "nbconvert_exporter": "python",
   "pygments_lexer": "ipython3",
   "version": "3.8.8"
  }
 },
 "nbformat": 4,
 "nbformat_minor": 5
}
