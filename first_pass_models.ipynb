{
 "cells": [
  {
   "cell_type": "code",
   "execution_count": 108,
   "id": "controlled-search",
   "metadata": {},
   "outputs": [],
   "source": [
    "# the usual suspects\n",
    "import pandas as pd\n",
    "import numpy as np\n",
    "import matplotlib.pyplot as plt\n",
    "import seaborn as sns\n",
    "plt.style.use('fivethirtyeight')\n",
    "\n",
    "%matplotlib inline\n",
    "\n",
    "# modeling imports\n",
    "from sklearn.linear_model import LogisticRegression\n",
    "from sklearn.model_selection import train_test_split\n",
    "from sklearn.metrics import precision_score, recall_score, accuracy_score, roc_auc_score\n",
    "from sklearn.metrics import confusion_matrix\n",
    "\n",
    "# preprocessing\n",
    "from sklearn.preprocessing import StandardScaler\n",
    "from sklearn.pipeline import make_pipeline"
   ]
  },
  {
   "cell_type": "code",
   "execution_count": 109,
   "id": "knowing-organic",
   "metadata": {},
   "outputs": [],
   "source": [
    "X = pd.read_csv('./data/processed_first_X_17feat.csv')\n",
    "y = pd.read_csv('./data/processed_first_y_17feat.csv')"
   ]
  },
  {
   "cell_type": "code",
   "execution_count": 110,
   "id": "pressed-register",
   "metadata": {},
   "outputs": [
    {
     "data": {
      "text/html": [
       "<div>\n",
       "<style scoped>\n",
       "    .dataframe tbody tr th:only-of-type {\n",
       "        vertical-align: middle;\n",
       "    }\n",
       "\n",
       "    .dataframe tbody tr th {\n",
       "        vertical-align: top;\n",
       "    }\n",
       "\n",
       "    .dataframe thead th {\n",
       "        text-align: right;\n",
       "    }\n",
       "</style>\n",
       "<table border=\"1\" class=\"dataframe\">\n",
       "  <thead>\n",
       "    <tr style=\"text-align: right;\">\n",
       "      <th></th>\n",
       "      <th>d1_glucose_max</th>\n",
       "      <th>glucose_apache</th>\n",
       "      <th>h1_glucose_max</th>\n",
       "      <th>h1_glucose_min</th>\n",
       "      <th>bmi</th>\n",
       "      <th>weight</th>\n",
       "      <th>d1_bun_max</th>\n",
       "      <th>bun_apache</th>\n",
       "      <th>d1_bun_min</th>\n",
       "      <th>d1_glucose_min</th>\n",
       "      <th>d1_creatinine_max</th>\n",
       "      <th>d1_creatinine_min</th>\n",
       "      <th>creatinine_apache</th>\n",
       "      <th>arf_apache</th>\n",
       "      <th>d1_potassium_max</th>\n",
       "      <th>age</th>\n",
       "      <th>diabetes</th>\n",
       "    </tr>\n",
       "  </thead>\n",
       "  <tbody>\n",
       "    <tr>\n",
       "      <th>0</th>\n",
       "      <td>156.0</td>\n",
       "      <td>127.0</td>\n",
       "      <td>156.0</td>\n",
       "      <td>156.0</td>\n",
       "      <td>31.242126</td>\n",
       "      <td>77.5</td>\n",
       "      <td>12.0</td>\n",
       "      <td>12.0</td>\n",
       "      <td>12.0</td>\n",
       "      <td>127.0</td>\n",
       "      <td>0.70</td>\n",
       "      <td>0.70</td>\n",
       "      <td>0.70</td>\n",
       "      <td>0</td>\n",
       "      <td>4.8</td>\n",
       "      <td>75.0</td>\n",
       "      <td>0</td>\n",
       "    </tr>\n",
       "    <tr>\n",
       "      <th>1</th>\n",
       "      <td>175.0</td>\n",
       "      <td>118.0</td>\n",
       "      <td>140.0</td>\n",
       "      <td>134.0</td>\n",
       "      <td>20.976012</td>\n",
       "      <td>58.5</td>\n",
       "      <td>12.0</td>\n",
       "      <td>19.0</td>\n",
       "      <td>12.0</td>\n",
       "      <td>118.0</td>\n",
       "      <td>0.80</td>\n",
       "      <td>0.80</td>\n",
       "      <td>0.97</td>\n",
       "      <td>0</td>\n",
       "      <td>3.7</td>\n",
       "      <td>81.0</td>\n",
       "      <td>1</td>\n",
       "    </tr>\n",
       "    <tr>\n",
       "      <th>2</th>\n",
       "      <td>218.0</td>\n",
       "      <td>218.0</td>\n",
       "      <td>140.0</td>\n",
       "      <td>134.0</td>\n",
       "      <td>28.622530</td>\n",
       "      <td>80.4</td>\n",
       "      <td>7.0</td>\n",
       "      <td>7.0</td>\n",
       "      <td>7.0</td>\n",
       "      <td>129.0</td>\n",
       "      <td>0.68</td>\n",
       "      <td>0.68</td>\n",
       "      <td>0.68</td>\n",
       "      <td>0</td>\n",
       "      <td>4.0</td>\n",
       "      <td>60.0</td>\n",
       "      <td>1</td>\n",
       "    </tr>\n",
       "    <tr>\n",
       "      <th>3</th>\n",
       "      <td>97.0</td>\n",
       "      <td>97.0</td>\n",
       "      <td>140.0</td>\n",
       "      <td>134.0</td>\n",
       "      <td>23.474146</td>\n",
       "      <td>68.0</td>\n",
       "      <td>31.0</td>\n",
       "      <td>31.0</td>\n",
       "      <td>31.0</td>\n",
       "      <td>97.0</td>\n",
       "      <td>2.64</td>\n",
       "      <td>2.64</td>\n",
       "      <td>2.64</td>\n",
       "      <td>1</td>\n",
       "      <td>3.9</td>\n",
       "      <td>83.0</td>\n",
       "      <td>0</td>\n",
       "    </tr>\n",
       "    <tr>\n",
       "      <th>4</th>\n",
       "      <td>136.0</td>\n",
       "      <td>108.0</td>\n",
       "      <td>136.0</td>\n",
       "      <td>136.0</td>\n",
       "      <td>25.827271</td>\n",
       "      <td>70.4</td>\n",
       "      <td>20.0</td>\n",
       "      <td>20.0</td>\n",
       "      <td>20.0</td>\n",
       "      <td>108.0</td>\n",
       "      <td>1.20</td>\n",
       "      <td>1.20</td>\n",
       "      <td>1.20</td>\n",
       "      <td>0</td>\n",
       "      <td>4.2</td>\n",
       "      <td>74.0</td>\n",
       "      <td>0</td>\n",
       "    </tr>\n",
       "  </tbody>\n",
       "</table>\n",
       "</div>"
      ],
      "text/plain": [
       "   d1_glucose_max  glucose_apache  h1_glucose_max  h1_glucose_min        bmi  \\\n",
       "0           156.0           127.0           156.0           156.0  31.242126   \n",
       "1           175.0           118.0           140.0           134.0  20.976012   \n",
       "2           218.0           218.0           140.0           134.0  28.622530   \n",
       "3            97.0            97.0           140.0           134.0  23.474146   \n",
       "4           136.0           108.0           136.0           136.0  25.827271   \n",
       "\n",
       "   weight  d1_bun_max  bun_apache  d1_bun_min  d1_glucose_min  \\\n",
       "0    77.5        12.0        12.0        12.0           127.0   \n",
       "1    58.5        12.0        19.0        12.0           118.0   \n",
       "2    80.4         7.0         7.0         7.0           129.0   \n",
       "3    68.0        31.0        31.0        31.0            97.0   \n",
       "4    70.4        20.0        20.0        20.0           108.0   \n",
       "\n",
       "   d1_creatinine_max  d1_creatinine_min  creatinine_apache  arf_apache  \\\n",
       "0               0.70               0.70               0.70           0   \n",
       "1               0.80               0.80               0.97           0   \n",
       "2               0.68               0.68               0.68           0   \n",
       "3               2.64               2.64               2.64           1   \n",
       "4               1.20               1.20               1.20           0   \n",
       "\n",
       "   d1_potassium_max   age  diabetes  \n",
       "0               4.8  75.0         0  \n",
       "1               3.7  81.0         1  \n",
       "2               4.0  60.0         1  \n",
       "3               3.9  83.0         0  \n",
       "4               4.2  74.0         0  "
      ]
     },
     "execution_count": 110,
     "metadata": {},
     "output_type": "execute_result"
    }
   ],
   "source": [
    "train_df = X.copy()\n",
    "train_df['diabetes'] = y\n",
    "train_df.head()"
   ]
  },
  {
   "cell_type": "code",
   "execution_count": null,
   "id": "protecting-serum",
   "metadata": {
    "tags": []
   },
   "outputs": [],
   "source": [
    "sns.pairplot(train_df[:,:10], hue='diabetes')"
   ]
  },
  {
   "cell_type": "code",
   "execution_count": 112,
   "id": "funded-replacement",
   "metadata": {},
   "outputs": [],
   "source": [
    "X_train, X_val, y_train, y_val = train_test_split(X.iloc[:,:10], y, test_size=0.20, random_state=18)"
   ]
  },
  {
   "cell_type": "code",
   "execution_count": 113,
   "id": "coated-partition",
   "metadata": {},
   "outputs": [],
   "source": [
    "y_train = np.array(y_train).ravel()\n",
    "y_val = np.array(y_val).ravel()"
   ]
  },
  {
   "cell_type": "markdown",
   "id": "declared-scott",
   "metadata": {},
   "source": [
    "## Logistic Regression"
   ]
  },
  {
   "cell_type": "markdown",
   "id": "infrared-salon",
   "metadata": {},
   "source": [
    "### Baseline Score With 1 Feature: .798"
   ]
  },
  {
   "cell_type": "code",
   "execution_count": 125,
   "id": "labeled-attitude",
   "metadata": {},
   "outputs": [],
   "source": [
    "X_train_1 = X_train[['d1_glucose_max']]\n",
    "X_val_1 = X_val[['d1_glucose_max']]"
   ]
  },
  {
   "cell_type": "code",
   "execution_count": 127,
   "id": "recognized-calgary",
   "metadata": {},
   "outputs": [
    {
     "data": {
      "text/plain": [
       "LogisticRegression(C=1000)"
      ]
     },
     "execution_count": 127,
     "metadata": {},
     "output_type": "execute_result"
    }
   ],
   "source": [
    "# without regularization\n",
    "lm1 = LogisticRegression(C=1000)\n",
    "lm1.fit(X_train_1, y_train)"
   ]
  },
  {
   "cell_type": "code",
   "execution_count": 186,
   "id": "studied-nature",
   "metadata": {},
   "outputs": [],
   "source": [
    "y_val_hat_1 = lm1.predict(X_val_1)"
   ]
  },
  {
   "cell_type": "code",
   "execution_count": 128,
   "id": "basic-williams",
   "metadata": {},
   "outputs": [
    {
     "name": "stdout",
     "output_type": "stream",
     "text": [
      "0.7984393757503001\n",
      "0.7985594237695078\n"
     ]
    }
   ],
   "source": [
    "print(lm1.score(X_train_1, y_train))\n",
    "print(lm1.score(X_val_1,y_val))"
   ]
  },
  {
   "cell_type": "code",
   "execution_count": 116,
   "id": "horizontal-spray",
   "metadata": {},
   "outputs": [
    {
     "data": {
      "text/plain": [
       "(array([[0.01098291]]), array([-3.31716356]))"
      ]
     },
     "execution_count": 116,
     "metadata": {},
     "output_type": "execute_result"
    }
   ],
   "source": [
    "lm1.coef_, lm1.intercept_"
   ]
  },
  {
   "cell_type": "code",
   "execution_count": 205,
   "id": "billion-default",
   "metadata": {},
   "outputs": [],
   "source": [
    "def make_confusion_matrix(model, threshold=0.5):\n",
    "    # Predict class 1 if probability of being in class 1 is greater than threshold\n",
    "    # (model.predict(X_test) does this automatically with a threshold of 0.5)\n",
    "    y_hat_1 = (model.predict_proba(X_val_1)[:, 1] >= threshold)\n",
    "    diabetes_confusion_1 = confusion_matrix(y_val, y_hat_1)\n",
    "    plt.figure(dpi=150)\n",
    "    sns.heatmap(diabetes_confusion_1, cmap=plt.cm.Blues, annot=True, square=True, fmt='d',\n",
    "           xticklabels=['pred no', 'pred yes'],\n",
    "           yticklabels=['actual no', 'actual yes']);\n",
    "    plt.title('baseline confusion matrix')\n",
    "    plt.savefig('./project-checkpoints/baseline_confusion.png')\n",
    "    # plt.xlabel('prediction')\n",
    "    # plt.ylabel('actual')"
   ]
  },
  {
   "cell_type": "code",
   "execution_count": 206,
   "id": "challenging-timeline",
   "metadata": {},
   "outputs": [
    {
     "data": {
      "image/png": "[encoded data removed]",
      "text/plain": [
       "<Figure size 900x600 with 2 Axes>"
      ]
     },
     "metadata": {
      "needs_background": "light"
     },
     "output_type": "display_data"
    }
   ],
   "source": [
    "make_confusion_matrix(lm1)"
   ]
  },
  {
   "cell_type": "code",
   "execution_count": 187,
   "id": "demanding-freeware",
   "metadata": {},
   "outputs": [
    {
     "name": "stdout",
     "output_type": "stream",
     "text": [
      "Default threshold:\n",
      "Precision: 0.5913,   Recall: 0.2115\n"
     ]
    }
   ],
   "source": [
    "print(\"Default threshold:\")\n",
    "print(\"Precision: {:6.4f},   Recall: {:6.4f}\".format(precision_score(y_val, y_val_hat_1), \n",
    "                                                     recall_score(y_val, y_val_hat_1)))"
   ]
  },
  {
   "cell_type": "code",
   "execution_count": null,
   "id": "serious-third",
   "metadata": {},
   "outputs": [],
   "source": [
    "plt.savefig"
   ]
  },
  {
   "cell_type": "markdown",
   "id": "useful-statistics",
   "metadata": {},
   "source": [
    "### Score With 10 Features: .800"
   ]
  },
  {
   "cell_type": "code",
   "execution_count": 117,
   "id": "surrounded-spain",
   "metadata": {},
   "outputs": [
    {
     "data": {
      "text/plain": [
       "StandardScaler()"
      ]
     },
     "execution_count": 117,
     "metadata": {},
     "output_type": "execute_result"
    }
   ],
   "source": [
    "sts = StandardScaler()\n",
    "sts.fit(X_train)"
   ]
  },
  {
   "cell_type": "code",
   "execution_count": 118,
   "id": "preliminary-moisture",
   "metadata": {},
   "outputs": [],
   "source": [
    "X_train_scale = sts.transform(X_train)\n",
    "X_val_scale = sts.transform(X_val)"
   ]
  },
  {
   "cell_type": "code",
   "execution_count": 171,
   "id": "fiscal-syria",
   "metadata": {},
   "outputs": [
    {
     "data": {
      "text/plain": [
       "LogisticRegression(C=10)"
      ]
     },
     "execution_count": 171,
     "metadata": {},
     "output_type": "execute_result"
    }
   ],
   "source": [
    "# without regularization\n",
    "lm10 = LogisticRegression(C=10)\n",
    "lm10.fit(X_train_scale, y_train)"
   ]
  },
  {
   "cell_type": "code",
   "execution_count": 193,
   "id": "supported-pearl",
   "metadata": {},
   "outputs": [],
   "source": [
    "y_val_hat = lm10.predict(X_val_scale)"
   ]
  },
  {
   "cell_type": "code",
   "execution_count": 172,
   "id": "bacterial-balance",
   "metadata": {},
   "outputs": [
    {
     "name": "stdout",
     "output_type": "stream",
     "text": [
      "0.8005282112845138\n",
      "0.8004801920768307\n"
     ]
    }
   ],
   "source": [
    "print(lm10.score(X_train_scale, y_train))\n",
    "print(lm10.score(X_val_scale,y_val))"
   ]
  },
  {
   "cell_type": "code",
   "execution_count": 207,
   "id": "swiss-rachel",
   "metadata": {},
   "outputs": [],
   "source": [
    "def make_confusion_matrix_10(model, threshold=0.5):\n",
    "    y_hat = (model.predict_proba(X_val_scale)[:, 1] >= threshold)\n",
    "    diabetes_confusion = confusion_matrix(y_val, y_hat)\n",
    "    \n",
    "    plt.figure(dpi=150)\n",
    "    sns.heatmap(diabetes_confusion, cmap=plt.cm.Blues, annot=True, square=True, fmt='d',\n",
    "           xticklabels=['pred no', 'pred yes'],\n",
    "           yticklabels=['actual no', 'actual yes']);\n",
    "    plt.title('10 feature confusion matrix')\n",
    "    plt.savefig('./project-checkpoints/tenfeat_confusion.png')\n",
    "    \n",
    "    # plt.xlabel('prediction')\n",
    "    # plt.ylabel('actual')"
   ]
  },
  {
   "cell_type": "code",
   "execution_count": 208,
   "id": "assumed-teach",
   "metadata": {},
   "outputs": [
    {
     "data": {
      "image/png": "[encoded data removed]",
      "text/plain": [
       "<Figure size 900x600 with 2 Axes>"
      ]
     },
     "metadata": {
      "needs_background": "light"
     },
     "output_type": "display_data"
    }
   ],
   "source": [
    "make_confusion_matrix_10(lm10,threshold=.5)"
   ]
  },
  {
   "cell_type": "code",
   "execution_count": 194,
   "id": "chief-headquarters",
   "metadata": {},
   "outputs": [
    {
     "name": "stdout",
     "output_type": "stream",
     "text": [
      "Default threshold:\n",
      "Precision: 0.5898,   Recall: 0.2438\n"
     ]
    }
   ],
   "source": [
    "print(\"Default threshold:\")\n",
    "print(\"Precision: {:6.4f},   Recall: {:6.4f}\".format(precision_score(y_val, y_val_hat), \n",
    "                                                     recall_score(y_val, y_val_hat)))"
   ]
  },
  {
   "cell_type": "markdown",
   "id": "requested-architecture",
   "metadata": {},
   "source": [
    "## Random Forest"
   ]
  },
  {
   "cell_type": "code",
   "execution_count": null,
   "id": "beautiful-alignment",
   "metadata": {},
   "outputs": [],
   "source": []
  }
 ],
 "metadata": {
  "kernelspec": {
   "display_name": "Python [conda env:metis] *",
   "language": "python",
   "name": "conda-env-metis-py"
  },
  "language_info": {
   "codemirror_mode": {
    "name": "ipython",
    "version": 3
   },
   "file_extension": ".py",
   "mimetype": "text/x-python",
   "name": "python",
   "nbconvert_exporter": "python",
   "pygments_lexer": "ipython3",
   "version": "3.8.8"
  }
 },
 "nbformat": 4,
 "nbformat_minor": 5
}
